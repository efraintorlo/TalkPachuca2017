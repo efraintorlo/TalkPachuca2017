{
 "cells": [
  {
   "cell_type": "markdown",
   "metadata": {},
   "source": [
    "<div style='color:#F6CC04 !important; background-color: #1C2227; padding:20px; border-radius: 25px; text-align:center;'>\n",
    "<h1 style='color:#F6CC04 !important;'> \n",
    " Programming Skills for Cosmology\n",
    "</h1>\n",
    "\n",
    "<h1 style='color:#F6CC04 !important;'> \n",
    "  How important are programming skills in Cosmology and Particle Physics (and life)\n",
    "</h1>\n",
    "<h2 style='color: #e64a4a'> Pachuca 2017 </h2>\n",
    "</div>\n",
    "\n",
    "--- \n",
    "\n",
    "\n",
    "<div style='color:#1C2227; background-color: #e64a4a; padding:20px;  padding:20px; border-radius: 25px; text-align:center;'>\n",
    "\n",
    "<!--- <img style=\"float: right;\" src=\"../../doc/img/test_seaborn.png\" width=\"200px\"> -->\n",
    "\n",
    "<h2 style='color:#1C2227;'>   How important are programming skills in Cosmology and Particle Physics (and life) </h2>\n",
    "\n",
    "</div>\n",
    "\n",
    "\n",
    "**Author:** Efrain Torres-Lomas\n",
    "\n",
    "**Email:**  efrain@fisica.ugto.mx\n",
    "\n",
    "**Date:**   Jan 2017"
   ]
  },
  {
   "cell_type": "markdown",
   "metadata": {},
   "source": []
  }
 ],
 "metadata": {
  "kernelspec": {
   "display_name": "Python 2",
   "language": "python",
   "name": "python2"
  },
  "language_info": {
   "codemirror_mode": {
    "name": "ipython",
    "version": 2
   },
   "file_extension": ".py",
   "mimetype": "text/x-python",
   "name": "python",
   "nbconvert_exporter": "python",
   "pygments_lexer": "ipython2",
   "version": "2.7.9"
  }
 },
 "nbformat": 4,
 "nbformat_minor": 1
}

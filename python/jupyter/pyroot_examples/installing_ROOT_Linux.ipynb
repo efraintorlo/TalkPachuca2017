{
 "cells": [
  {
   "cell_type": "markdown",
   "metadata": {
    "slideshow": {
     "slide_type": "slide"
    }
   },
   "source": [
    "<div style='color:#1C2227; background-color: #3c5097; padding:50px; border-radius: 55px; text-align:center;'>\n",
    "\n",
    "<h1 style='color:#FCFFFC;'>Installing `ROOT` and `PyROOT`</h1>\n",
    "\n",
    "</div>\n",
    "\n",
    "\n",
    "**Author:** Efrain Torres-Lomas\n",
    "\n",
    "**Email:**  efrain@fisica.ugto.mx\n",
    "\n",
    "**Date:**   Jan 2017\n"
   ]
  },
  {
   "cell_type": "markdown",
   "metadata": {
    "slideshow": {
     "slide_type": "skip"
    }
   },
   "source": []
  },
  {
   "cell_type": "markdown",
   "metadata": {
    "slideshow": {
     "slide_type": "slide"
    }
   },
   "source": [
    "## The simplest way to install an actualized ROOT is by cloning a GitHub repository forked from the official ROOT repo.\n",
    "\n",
    "The official repository is hosted at:\n",
    "\n",
    "https://github.com/root-mirror/root\n",
    "\n",
    "My Fork can be found at:\n",
    "\n",
    "https://github.com/elchinot7/root\n"
   ]
  },
  {
   "cell_type": "markdown",
   "metadata": {
    "slideshow": {
     "slide_type": "slide"
    }
   },
   "source": [
    "\n",
    "# Method 1: (Make) DO NOT USE THIS METHOD!\n",
    "<img src=\"../../../img/confounded_face.png\" alt=\"Image Test\" style=\"width:70px\">\n",
    "\n",
    "    cd ~/GitHub\n",
    "    git clone https://github.com/elchinot7/root\n",
    "    cd root\n",
    "    ./configure linuxx8664gcc --enable-python --with-python-incdir=/usr/include/python2.7   --with-python-libdir=/usr/lib/x86_64-linux-gnu/\n",
    "\n",
    "This method failed with error : `RConversionRuleparser error`\n"
   ]
  },
  {
   "cell_type": "markdown",
   "metadata": {
    "slideshow": {
     "slide_type": "subslide"
    }
   },
   "source": [
    "\n",
    "# Method 2: (CMake)\n",
    "<img src=\"../../../img/sunglasses_emoji.png\" alt=\"Image Test\" style=\"width:70px\">\n",
    "\n",
    "    cd ~/GitHub\n",
    "    git clone https://github.com/elchinot7/root\n",
    "    mkdir ~/Programs/myroot\n",
    "    cd  ~/Programs/myroot\n",
    "    cmake ~/GitHub/root\n",
    "    cmake --build .\n",
    "\n",
    "Note the dot after --build.\n",
    "\n",
    "Note that the the directory where the built `ROOT` is installed (in this case `~/Programs/myroot` ) is different from the directory where the forked ROOT was cloned (in this case `~/Github/root` ).\n"
   ]
  },
  {
   "cell_type": "markdown",
   "metadata": {
    "slideshow": {
     "slide_type": "slide"
    }
   },
   "source": [
    "<div style='color:#1C2227; background-color: #3c5097; padding:10px; border-radius: 25px; text-align:center;'>\n",
    "\n",
    "<h1 style='color:#FCFFFC;'>`ROOT` Requirements at `Linux`.</h1>\n",
    "\n",
    "</div>\n",
    "\n",
    "\n",
    "At my `Dell LATITUDE Machine` with `Jessie Debian`.\n",
    "\n",
    "    g++ (Debian 4.9.2-10) 4.9.2\n",
    "    Python 2.7.9\n",
    "    cmake version 3.7.2\n",
    "\n",
    "<div style='color:#1C2227; background-color: #3c5097; padding:10px; border-radius: 25px; text-align:center;'>\n",
    "\n",
    "<h1 style='color:#FCFFFC;'>`Python` Requirements</h1>\n",
    "\n",
    "</div>\n",
    "\n",
    "    ipython\n",
    "    jupyter\n",
    "    notebook\n",
    "    metakernel\n",
    "    zmq    "
   ]
  },
  {
   "cell_type": "markdown",
   "metadata": {
    "slideshow": {
     "slide_type": "slide"
    }
   },
   "source": [
    "<div style='color:#1C2227; background-color: #3c5097; padding:10px; border-radius: 25px; text-align:center;'>\n",
    "\n",
    "<h1 style='color:#FCFFFC;'>Start using `ROOT` and `ROOTbooks`</h1>\n",
    "\n",
    "</div>\n",
    "\n",
    "\n",
    "### In `~/.bashrc`, `~/.zshrc` or in my case `~/.paths.local` add the lines:\n",
    "\n",
    "    export ROOTSYS=~/Programs/myroot\n",
    "    cd ${ROOTSYS} && source bin/thisroot.sh\n",
    "    export PYTHONPATH=$PYTHONPATH:$ROOTSYS/lib\n",
    "\n",
    "and type in your shell:\n",
    "\n",
    "    root --notebook\n",
    "This will start a ROOT-flavoured notebook server in your computer.\n",
    "\n",
    "Alternatively, if you would like to use the Jupyter command directly, you can do on Linux:\n",
    "\n",
    "    cp -r $ROOTSYS/etc/notebook/kernels/root ~/.local/share/jupyter/kernels\n",
    "    jupyter-notebook"
   ]
  },
  {
   "cell_type": "markdown",
   "metadata": {
    "slideshow": {
     "slide_type": "slide"
    }
   },
   "source": [
    "<div style='color:#1C2227; background-color: #3c5097; padding:10px; border-radius: 25px; text-align:center;'>\n",
    "\n",
    "<h1 style='color:#FCFFFC;'>If all went well now we can use ROOT as Python</h1>\n",
    "\n",
    "</div>"
   ]
  },
  {
   "cell_type": "code",
   "execution_count": 1,
   "metadata": {
    "collapsed": false,
    "slideshow": {
     "slide_type": "-"
    }
   },
   "outputs": [
    {
     "data": {
      "application/javascript": [
       "\n",
       "require(['notebook'],\n",
       "  function() {\n",
       "    IPython.CodeCell.config_defaults.highlight_modes['magic_text/x-c++src'] = {'reg':[/^%%cpp/]};\n",
       "    console.log(\"JupyROOT - %%cpp magic configured\");\n",
       "  }\n",
       ");\n"
      ]
     },
     "metadata": {},
     "output_type": "display_data"
    },
    {
     "name": "stdout",
     "output_type": "stream",
     "text": [
      "Welcome to JupyROOT 6.09/01\n"
     ]
    }
   ],
   "source": [
    "import ROOT"
   ]
  },
  {
   "cell_type": "code",
   "execution_count": 7,
   "metadata": {
    "collapsed": false,
    "slideshow": {
     "slide_type": "-"
    }
   },
   "outputs": [
    {
     "data": {
      "text/plain": [
       "'/home/chinot7/Programs/myroot/lib/ROOT.pyc'"
      ]
     },
     "execution_count": 7,
     "metadata": {},
     "output_type": "execute_result"
    }
   ],
   "source": [
    "ROOT.__file__"
   ]
  },
  {
   "cell_type": "code",
   "execution_count": null,
   "metadata": {
    "collapsed": true
   },
   "outputs": [],
   "source": []
  }
 ],
 "metadata": {
  "celltoolbar": "Slideshow",
  "kernelspec": {
   "display_name": "Python 2",
   "language": "python",
   "name": "python2"
  },
  "language_info": {
   "codemirror_mode": {
    "name": "ipython",
    "version": 2
   },
   "file_extension": ".py",
   "mimetype": "text/x-python",
   "name": "python",
   "nbconvert_exporter": "python",
   "pygments_lexer": "ipython2",
   "version": "2.7.9"
  }
 },
 "nbformat": 4,
 "nbformat_minor": 1
}
